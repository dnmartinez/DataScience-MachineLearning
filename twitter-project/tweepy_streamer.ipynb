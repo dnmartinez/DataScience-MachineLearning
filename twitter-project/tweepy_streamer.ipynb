{
 "cells": [
  {
   "cell_type": "code",
   "execution_count": 3,
   "metadata": {},
   "outputs": [
    {
     "name": "stdout",
     "output_type": "stream",
     "text": [
      "importing Jupyter notebook from twitter_credentials.ipynb\n"
     ]
    }
   ],
   "source": [
    "from tweepy import API \n",
    "from tweepy import Cursor\n",
    "from tweepy.streaming import StreamListener\n",
    "from tweepy import OAuthHandler\n",
    "from tweepy import Stream\n",
    "import import_ipynb\n",
    "import twitter_credentials\n",
    "import json\n",
    "import csv\n",
    "from tweepy.parsers import JSONParser"
   ]
  },
  {
   "cell_type": "code",
   "execution_count": 60,
   "metadata": {},
   "outputs": [],
   "source": [
    "\"\"\"\n",
    "    Twitter Authenticator\n",
    "\"\"\"\n",
    "\n",
    "class TwitterAuthenticator():\n",
    "    def authenticate_twitter_app(self):\n",
    "        auth = OAuthHandler(twitter_credentials.CONSUMER_KEY, twitter_credentials.CONSUMER_SECRET)\n",
    "        auth.set_access_token(twitter_credentials.ACCESS_TOKEN, twitter_credentials.ACCESS_TOKEN_SECRET)\n",
    "        return auth"
   ]
  },
  {
   "cell_type": "code",
   "execution_count": 61,
   "metadata": {},
   "outputs": [],
   "source": [
    "class TwitterStreamer():\n",
    "    \"\"\"\n",
    "        Class for streaming and processing live tweets\n",
    "    \"\"\"\n",
    "    def __init__(self):\n",
    "        self.twitter_authenticator = TwitterAuthenticator()\n",
    "    \n",
    "    # Handles Twitter authentication and connection to the Twitter Streaming API\n",
    "    def stream_tweets(self, fetched_tweets_filename, hashtags):  \n",
    "        listener = TwitterListener(fetched_tweets_filename)\n",
    "        auth = self.twitter_authenticator.authenticate_twitter_app()\n",
    "    \n",
    "        # listener responsible of how to deal with data (tweets) and error\n",
    "        stream = Stream(auth, listener) \n",
    "        # filter to stream all tweets containing the word(s) in track. \n",
    "        # The track parameter is an array of search terms to stream\n",
    "        stream.filter(track=hashtags)\n",
    "    \n",
    "    def hashtag_handler(self):\n",
    "        auth = self.twitter_authenticator.authenticate_twitter_app()\n",
    "        \n",
    "    "
   ]
  },
  {
   "cell_type": "code",
   "execution_count": 62,
   "metadata": {},
   "outputs": [],
   "source": [
    "  \n",
    "# inherit from stream listener class. it has methods that we can override\n",
    "\"\"\"\n",
    "    Listener that prints receivedtweets to stdout\n",
    "\"\"\"\n",
    "class TwitterListener(StreamListener):\n",
    "    \n",
    "    def __init__(self, fetched_tweets_filename):\n",
    "        self.fetched_tweets_filename = fetched_tweets_filename\n",
    "        \n",
    "    \n",
    "    # takes in data that is streamed by the stream listener. We can do whatever we want with that data\n",
    "    #The on_data method of a stream listener receives all messages and calls functions according to the message type\n",
    "    def on_data(self, data):  \n",
    "        try:\n",
    "            print(data)\n",
    "            with open(self.fetched_tweets_filename, 'a') as f:\n",
    "                f.write(data)\n",
    "            return True\n",
    "        except BaseException as e:\n",
    "            print('Error on_data: %s' % str(e))\n",
    "        return True\n",
    "    \n",
    "    # overwriting. When an error occurs\n",
    "    def on_error(self, status):\n",
    "        if status == 420:\n",
    "            print(status)\n",
    "            # return false in case rate limit occurs\n",
    "            return False\n",
    "        print(status)\n",
    "\n",
    "        "
   ]
  },
  {
   "cell_type": "code",
   "execution_count": 146,
   "metadata": {},
   "outputs": [],
   "source": [
    "class HashtagHandler():\n",
    "    def __init__(self):\n",
    "        self.twitter_authenticator = TwitterAuthenticator()\n",
    "    \n",
    "    def search_hashtags(self, query, max_tweets, from_date, to_date, file_name):\n",
    "        auth = self.twitter_authenticator.authenticate_twitter_app()\n",
    "        api = API(auth)\n",
    "        \n",
    "        csvFile = open(file_name, 'a')\n",
    "        csvWriter = csv.writer(csvFile)\n",
    "    \n",
    "        for tweet in Cursor(api.search, \n",
    "                     q=query, count=max_tweets, since=from_date, until=to_date,   \n",
    "                     result_type=\"mixed\", lang=\"en\").items(max_tweets):\n",
    "            if not tweet.retweeted and 'RT @' not in tweet.text:\n",
    "                csvWriter.writerow([tweet.id, tweet.created_at, tweet.text, len(tweet.text), \n",
    "                                    tweet.source, tweet.favorite_count, tweet.retweeted, tweet.retweet_count])\n",
    "        csvFile.close()\n"
   ]
  },
  {
   "cell_type": "code",
   "execution_count": 147,
   "metadata": {},
   "outputs": [],
   "source": [
    "if __name__ == \"__main__\":\n",
    "\n",
    "    hashtags = ['krispykreme', 'KrispyKreme']\n",
    "    test = HashtagHandler()\n",
    "    file_name = 'krispy_tweets8.csv'\n",
    "    tweets =test.search_hashtags(hashtags, 120, '2021-03-28', '2021-04-01', file_name)\n",
    "    \n",
    "         "
   ]
  },
  {
   "cell_type": "code",
   "execution_count": 6,
   "metadata": {},
   "outputs": [
    {
     "ename": "SyntaxError",
     "evalue": "unexpected EOF while parsing (<ipython-input-6-a8d749015bcb>, line 4)",
     "output_type": "error",
     "traceback": [
      "\u001b[0;36m  File \u001b[0;32m\"<ipython-input-6-a8d749015bcb>\"\u001b[0;36m, line \u001b[0;32m4\u001b[0m\n\u001b[0;31m    \u001b[0m\n\u001b[0m    ^\u001b[0m\n\u001b[0;31mSyntaxError\u001b[0m\u001b[0;31m:\u001b[0m unexpected EOF while parsing\n"
     ]
    }
   ],
   "source": [
    "with open('krispy_tweets8.csv', 'rU') as myfile:\n",
    "    filtered = (line.replace('\\r', '') for line in myfile)\n",
    "    for row in csv.reader(filtered):\n",
    "    "
   ]
  },
  {
   "cell_type": "code",
   "execution_count": null,
   "metadata": {},
   "outputs": [],
   "source": [
    "csvWriter.writerow([tweet.created_at, tweet.text.encode('utf-8')])"
   ]
  },
  {
   "cell_type": "code",
   "execution_count": null,
   "metadata": {},
   "outputs": [],
   "source": []
  }
 ],
 "metadata": {
  "kernelspec": {
   "display_name": "Python 3",
   "language": "python",
   "name": "python3"
  },
  "language_info": {
   "codemirror_mode": {
    "name": "ipython",
    "version": 3
   },
   "file_extension": ".py",
   "mimetype": "text/x-python",
   "name": "python",
   "nbconvert_exporter": "python",
   "pygments_lexer": "ipython3",
   "version": "3.8.5"
  }
 },
 "nbformat": 4,
 "nbformat_minor": 4
}
