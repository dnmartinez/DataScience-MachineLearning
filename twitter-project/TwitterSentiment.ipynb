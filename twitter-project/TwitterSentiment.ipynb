{
 "cells": [
  {
   "cell_type": "code",
   "execution_count": 1,
   "metadata": {},
   "outputs": [],
   "source": [
    "import findspark\n",
    "findspark.init()\n",
    "from pyspark.sql import SparkSession, functions as f\n",
    "from pyspark.sql.types import *\n",
    "from pyspark import SparkConf, SparkContext\n",
    "conf = SparkConf().setMaster(\"local\").setAppName(\"ts\")\n",
    "sc = SparkContext.getOrCreate(conf=conf)\n",
    "spark = SparkSession.builder.appName('SentimentTwitter').getOrCreate()\n",
    "from pyspark.sql import SQLContext\n",
    "import re"
   ]
  },
  {
   "cell_type": "code",
   "execution_count": 2,
   "metadata": {},
   "outputs": [],
   "source": [
    "from textblob import TextBlob\n",
    "from wordcloud import WordCloud\n",
    "import pandas as pd\n",
    "import numpy as np\n",
    "import re\n",
    "import matplotlib.pyplot as plt"
   ]
  },
  {
   "cell_type": "code",
   "execution_count": 3,
   "metadata": {},
   "outputs": [],
   "source": [
    "def process_file(file_name):\n",
    "    rdd = sc.wholeTextFiles(file_name)\\\n",
    "    .map(lambda x: re.sub(r'(?!(([^\"]*\"){2})*[^\"]*$),', ' ', x[1].replace(\"\\r\\n\", \",\").replace(\",,\", \",\")).split(\",\"))\\\n",
    "    .flatMap(lambda x: [x[k:k+8] for k in range(0, len(x), 8)])\n",
    "    return rdd"
   ]
  },
  {
   "cell_type": "code",
   "execution_count": 4,
   "metadata": {},
   "outputs": [],
   "source": [
    "def clean_data(old_df, col_name):\n",
    "    new_df = old_df.select(f.regexp_replace(f.col(\"tweet_text\"), \\\n",
    "                                            \"[\"\n",
    "        u\"\\U0001F600-\\U0001F64F\"  # emoticons\n",
    "        u\"\\U0001F300-\\U0001F5FF\"  # symbols & pictographs\n",
    "        u\"\\U0001F680-\\U0001F6FF\"  # transport & map symbols\n",
    "        u\"\\U0001F1E0-\\U0001F1FF\"  # flags (iOS)\n",
    "        u\"\\U0001F1F2-\\U0001F1F4\"  # Macau flag\n",
    "        u\"\\U0001F1E6-\\U0001F1FF\"  # flags\n",
    "        u\"\\U0001F600-\\U0001F64F\"\n",
    "        u\"\\U00002702-\\U000027B0\"\n",
    "        u\"\\U000024C2-\\U0001F251\"\n",
    "        u\"\\U0001f926-\\U0001f937\"\n",
    "        u\"\\U0001F1F2\"\n",
    "        u\"\\U0001F1F4\"\n",
    "        u\"\\U0001F620\"\n",
    "        u\"\\u200d\"\n",
    "        u\"\\u2640-\\u2642\"\n",
    "        \"]+\", \"\").alias(\"tweet_text\"))\n",
    "    new_df = new_df.select(f.regexp_replace(f.col('tweet_text'), \\\n",
    "                                           '@\\w+', '').alias('tweet_text')) # Remove @\n",
    "    new_df = new_df.select(f.regexp_replace(f.col(\"tweet_text\"), \\\n",
    "                                           '#+', '').alias('tweet_text')) # Remove #\n",
    "    ew_df = new_df.select(f.regexp_replace(f.col('tweet_text'), \\\n",
    "                                           '\"', '').alias(\"tweet_text\")) \n",
    "    new_df = new_df.select(f.regexp_replace(f.col(\"tweet_text\"), \\\n",
    "                                           'https?:\\/\\/\\S+', '').alias(\"tweet_text\"))\n",
    "    new_df = new_df.select(f.regexp_replace(f.col('tweet_text'), \\\n",
    "                                           '\"+', '').alias('tweet_text'))\n",
    "    new_df = new_df.select(f.regexp_replace(f.col('tweet_text'), \\\n",
    "                                           '\\n+', '').alias('tweet_text'))\n",
    "    new_df = new_df.select(f.ltrim(new_df[\"tweet_text\"]).alias('tweet_text'))\n",
    "    \n",
    "    \n",
    "    return new_df\n"
   ]
  },
  {
   "cell_type": "code",
   "execution_count": 5,
   "metadata": {},
   "outputs": [],
   "source": [
    "\"\"\"sentiment_score_udf = f.udf(lambda z: polarity_detection(z), FloatType())\n",
    "result = clean_tweets.select(\"tweet_text\", sentiment_score_udf(\"tweet_text\").alias(\"new_col\"))\"\"\"\n",
    "\n",
    "def get_polarity(data_frame):\n",
    "    sentiment_score_udf = f.udf(lambda z: calculate_polarity(z), FloatType())\n",
    "    result = data_frame.withColumn('polarity',f.round(sentiment_score_udf('tweet_text'), 2))\n",
    "    return result\n",
    "\n",
    "def get_subjectivity(data_frame):\n",
    "    subjectivity_udf = f.udf(lambda z: calculate_subjectivity(z), FloatType())\n",
    "    result = data_frame.withColumn('subjectivity', f.round(subjectivity_udf('tweet_text'), 2))\n",
    "    return result\n",
    "\n",
    "def calculate_polarity(text):\n",
    "    result = TextBlob(text).sentiment.polarity\n",
    "    \"\"\"if result > 0:\n",
    "        return 1\n",
    "    elif result < 0:\n",
    "        return -1\n",
    "    else:\n",
    "        return 0\"\"\"\n",
    "    return TextBlob(text).sentiment.polarity\n",
    "\n",
    "def calculate_subjectivity(text):\n",
    "    return TextBlob(text).sentiment.subjectivity\n",
    "\n"
   ]
  },
  {
   "cell_type": "code",
   "execution_count": 6,
   "metadata": {},
   "outputs": [],
   "source": [
    "rdd = process_file(\"krispy_tweets8.csv\")\n",
    "tweets = rdd.toDF()\n",
    "tweets = tweets.withColumnRenamed(\"_1\", 'id').withColumnRenamed(\"_2\", 'date_created') \\\n",
    "    .withColumnRenamed(\"_3\", \"tweet_text\").withColumnRenamed(\"_4\", \"tweet_len\") \\\n",
    "    .withColumnRenamed(\"_5\", \"source\").withColumnRenamed(\"_6\", \"likes\").withColumnRenamed(\"_7\", \"retweeted\") \\\n",
    "    .withColumnRenamed(\"_8\", 'retweets')\n",
    "\n",
    "tweets = tweets.select(tweets['id'].cast(LongType()), tweets['date_created'].cast(DateType()), \\\n",
    "                   tweets['tweet_text'], tweets['tweet_len'].cast(LongType()), tweets[\"source\"], \\\n",
    "                   tweets['likes'].cast(IntegerType()), tweets['retweeted'].cast(BooleanType()), \\\n",
    "                   tweets['retweets'].cast(IntegerType()))"
   ]
  },
  {
   "cell_type": "code",
   "execution_count": 7,
   "metadata": {},
   "outputs": [],
   "source": [
    "clean_tweets = clean_data(tweets, 'tweet_text')"
   ]
  },
  {
   "cell_type": "code",
   "execution_count": 142,
   "metadata": {},
   "outputs": [
    {
     "name": "stdout",
     "output_type": "stream",
     "text": [
      "+-----------------------------------------------------------------------------------------------------------------------+\n",
      "|tweet_text                                                                                                             |\n",
      "+-----------------------------------------------------------------------------------------------------------------------+\n",
      "|The civil war is coming. Vaxxers Vs. Anti-vaxxers. Anti-vaxxers trust their immune system  &amp; can be seen often ge… |\n",
      "|Reasons to get your COVID-19 shot: Protect yourself Protect your family Protect your friends Get a fr…                 |\n",
      "|You deserve a treat! Get ready  ChocolateGlazedFriday is on the way  4/2 only!  krispykreme doughnuts tgicC…           |\n",
      "|Haha. I looked at the seasoning and thought to myself  “what else have you missed out on?”                             |\n",
      "|If it were   it’d be open.                                                                                             |\n",
      "|Don't you worry  Doc . We still stan.                                                                                  |\n",
      "|Seeing this made me realize how basic I am. My favorite:Bagel: plainIceCream: vanillaPizza: pepperoni …                |\n",
      "|I got the J&amp;J vaccine shot yesterday  so now I'm eligible to get a free KrispyKreme doughnut.Manpukun              |\n",
      "|Seeing this made me realize how basic I am. My favorite:Bagel: plainIceCream: vanilla…                                 |\n",
      "|you have to listen to her music                                                                                        |\n",
      "|Jeff the vaccine don’t prevent u from getting it or spreadi…                                                           |\n",
      "|I didn’t need the incentive but I can’t resist!                                                                        |\n",
      "|Thanks! I just added that to my to do list the next time I’m in the area.                                              |\n",
      "|I am 42 and I can work circles around 25 year old's.  I am not exactly a Tr…                                           |\n",
      "|That's downtown Raleigh  Person st @ Peace St  near Peace College                                                      |\n",
      "|Got my first donut. And on hotdonut Wednesday. Thanks  and   Pfizer and warm Original Gla…                             |\n",
      "|Awesome!                                                                                                               |\n",
      "|Which Krispy Kreme location is this?                                                                                   |\n",
      "|Obesity is a HUGE problem in this country and the gubment is bribing folks with donuts …                               |\n",
      "|Where’s  when you need one?                                                                                            |\n",
      "|exactly !                                                                                                              |\n",
      "|I’ll be joining you soon.                                                                                              |\n",
      "|See y’all                                                                                                              |\n",
      "|Zero. I don’t like KrispyKreme. Yes  I know this makes me a monster.                                                   |\n",
      "|make it happen he got the shot today                                                                                   |\n",
      "|Sunshine is a great source of Vitamin D.                                                                               |\n",
      "|to all those arguing with you over this: do you realize the survival r…                                                |\n",
      "|Yes! good for you! FREEDOM!                                                                                            |\n",
      "|He blocked me for pointing out that Jesus hung…                                                                        |\n",
      "|im shocked this man waited 13 days to see a dermatologist when his skin peeled off                                     |\n",
      "|We will definit…                                                                                                       |\n",
      "|Excellent…                                                                                                             |\n",
      "|I am divorcing you forevermore! 8th time your ap has taken dasher to an address 20 miles away that is no…              |\n",
      "|vaccinated bitches are SEXY                                                                                            |\n",
      "|Plus   is near by                                                                                                      |\n",
      "|After 2nd shot went directly to Krispy Kreme!  ididitforthedonut krispykreme Pfizer itwasdelish itwashot…              |\n",
      "|Which is worse?  A glass of wine  or a donut?  Lots of folks have a glass of win…                                      |\n",
      "|Meanwhile  parents can't enter the schools  children wear masks all day  but schools allo…                             |\n",
      "|bitch stfu looking like a whole fucking fruit cake.... stfu                                                            |\n",
      "|Just got my second shot three hours ago and I’m so relieved makes me feel l…                                           |\n",
      "|This self-healing immune system is available to anyone who will…                                                       |\n",
      "|just got mine today so hmu  ya bois ready to be ~g l a z e d~                                                          |\n",
      "|Was that a 12+1?  Hmmm....                                                                                             |\n",
      "|Wake County’s vaccination program is a train wreck.  No confirmation  no appointments  no information.                 |\n",
      "|Can’t help the muzzle wearing devout ronas                                                                             |\n",
      "|Covid Vaccination Cycle Complete!  and I walked straight through to get our 2nd vaccine  no wait at the T…             |\n",
      "|We do not have  in Vermont. Very sad                                                                                   |\n",
      "|And to get rid of the damn Masks!!! NoMasks                                                                            |\n",
      "|oh gosh tysm🥺🥺                                                                                                       |\n",
      "|Appreciation tweet for blurring out the vaccination card                                                               |\n",
      "|There have been very very few deaths and they were all c…                                                              |\n",
      "|I’m super pleased to see this and to know you understand the danger of sugar now. :-)                                  |\n",
      "|We  know what we would do without you! THANK YOU  for keeping our community safe!!! GiveBack…                          |\n",
      "|The time has come to pick a side. This might be the most important decision you make in the next 2.5 seconds. Choos…   |\n",
      "|. WTF?I’ll pay for a donut from  then.                                                                                 |\n",
      "|Another day AGAIN for a doughnut and Coca Cola  :p what is it 610 times I've been?                                     |\n",
      "|Would be nice if I didn’t have to drive 1 hour to the casino just to get one! Why aren’t there more in Ct?             |\n",
      "|YOURE GORGEOUS                                                                                                         |\n",
      "|Me trying to steal your personal info                                                                                  |\n",
      "|I would crush a dozen  donuts right now. ThoughtForTheDay                                                              |\n",
      "|If you’re under 40  you are creating a higher risk of dying by eating a Krispy Kreme donut every day then you are b…   |\n",
      "|It’s one donut a day for a year  boys also humor.                                                                      |\n",
      "|Diabetes from one donut? Dramatic much?                                                                                |\n",
      "|I look everyday and try to set an appt within 30 miles of me  none availa…                                             |\n",
      "|Whaaaaaattt  you got a choice?!?! I was just handed a small donut at  :( it was go…                                    |\n",
      "|For the free donuts for being vaccinated do we need our physical card on us or can we use a picture of our cards       |\n",
      "|sooooo it’s says I can get one free doughnut per day yes?                                                              |\n",
      "|Get them DONUTS GUYS!!!                                                                                                |\n",
      "|I had my first  doughnut to celebrate my vaccine shot!                                                                 |\n",
      "|You can still get it even though you are vaccinated...Do people not know that ? ?                                      |\n",
      "|Who needs Mensa &amp; an IQ test when 30 million plus Brits have already saved me the hassle. Krispy Kreme anyone …    |\n",
      "|It's true. If you look up the top 10 things that kill Americans like 8 of them can be reversed with exercise.          |\n",
      "|This is why we are so fat                                                                                              |\n",
      "|The body renews unhealthy cells through Apoptosis (self destruction)What we see with the KrispyKreme+v/x crowd is…     |\n",
      "|80% of covid hospitalizations are for overweight people...Meanwhile  many gyms and parks are still closed  and yo…     |\n",
      "|One donut per day if you show your vaccine card (for 2021). Not that I'd recommend that m…                             |\n",
      "|80% of people hospitalized for Covid-19 were overweight or obese  yet  thinks it’s a GREAT idea to give…               |\n",
      "|Free Krispie Creme doughnuts weren’t a thing when I got my shots. And I’m grateful for that.…                          |\n",
      "|Lol yep now go out and get your free  donut                                                                            |\n",
      "+-----------------------------------------------------------------------------------------------------------------------+\n",
      "\n"
     ]
    }
   ],
   "source": [
    "clean_tweets.show(79, False)"
   ]
  },
  {
   "cell_type": "code",
   "execution_count": 8,
   "metadata": {},
   "outputs": [
    {
     "name": "stdout",
     "output_type": "stream",
     "text": [
      "+--------------------+--------+------------+\n",
      "|          tweet_text|polarity|subjectivity|\n",
      "+--------------------+--------+------------+\n",
      "|The civil war is ...|     0.0|         0.0|\n",
      "|Reasons to get yo...|     0.0|         0.0|\n",
      "|You deserve a tre...|     0.1|        0.75|\n",
      "|Haha. I looked at...|     0.2|         0.3|\n",
      "|If it were   it’d...|     0.0|         0.5|\n",
      "|Don't you worry  ...|     0.0|         0.0|\n",
      "|Seeing this made ...|     0.0|        0.13|\n",
      "|I got the J&amp;J...|     0.4|         0.8|\n",
      "|Seeing this made ...|     0.0|        0.13|\n",
      "|you have to liste...|     0.0|         0.0|\n",
      "|Jeff the vaccine ...|     0.0|         0.0|\n",
      "|I didn’t need the...|     0.0|         0.0|\n",
      "|Thanks! I just ad...|    0.13|         0.1|\n",
      "|I am 42 and I can...|   -0.01|        0.22|\n",
      "|That's downtown R...|     0.1|         0.4|\n",
      "|Got my first donu...|    0.36|        0.47|\n",
      "|            Awesome!|     1.0|         1.0|\n",
      "|Which Krispy Krem...|     0.0|         0.0|\n",
      "|Obesity is a HUGE...|     0.4|         0.9|\n",
      "|Where’s  when you...|     0.0|         0.0|\n",
      "+--------------------+--------+------------+\n",
      "only showing top 20 rows\n",
      "\n"
     ]
    }
   ],
   "source": [
    "tweets_sentiment = get_polarity(clean_tweets)\n",
    "tweets_sentiment = get_subjectivity(tweets_sentiment)\n",
    "tweets_sentiment.show()"
   ]
  },
  {
   "cell_type": "code",
   "execution_count": 95,
   "metadata": {},
   "outputs": [],
   "source": [
    "pos_polarity = tweets_sentiment.groupBy('polarity').count().filter('polarity >0').sort(f.desc('polarity'))\n",
    "tot_pos_polarity = pos_polarity.select(f.sum('count').alias('tot_pos_polarity'))\n",
    "neutral_polarity = tweets_sentiment.groupBy('polarity').count().filter('polarity = 0')\n",
    "neg_polarity = tweets_sentiment.groupBy('polarity').count().filter('polarity < 0').sort(f.desc('polarity'))\n",
    "tot_neg_polarity = neg_polarity.select(f.sum('count').alias('tot_neg_polarity'))"
   ]
  },
  {
   "cell_type": "code",
   "execution_count": 70,
   "metadata": {},
   "outputs": [
    {
     "name": "stdout",
     "output_type": "stream",
     "text": [
      "Positive polarity\n",
      "+--------+-----+\n",
      "|polarity|count|\n",
      "+--------+-----+\n",
      "|     1.0|    2|\n",
      "|    0.98|    1|\n",
      "|     0.8|    2|\n",
      "|    0.75|    1|\n",
      "|     0.7|    1|\n",
      "|    0.63|    1|\n",
      "|     0.6|    1|\n",
      "|     0.5|    1|\n",
      "|    0.44|    1|\n",
      "|    0.43|    1|\n",
      "|     0.4|    5|\n",
      "|    0.36|    1|\n",
      "|    0.31|    2|\n",
      "|     0.3|    1|\n",
      "|    0.29|    1|\n",
      "|    0.25|    1|\n",
      "|     0.2|    4|\n",
      "|    0.13|    1|\n",
      "|    0.11|    1|\n",
      "|     0.1|    3|\n",
      "+--------+-----+\n",
      "only showing top 20 rows\n",
      "\n",
      "+----------------+\n",
      "|tot_pos_polarity|\n",
      "+----------------+\n",
      "|              33|\n",
      "+----------------+\n",
      "\n",
      "Neutral polarity\n",
      "+--------+-----+\n",
      "|polarity|count|\n",
      "+--------+-----+\n",
      "|     0.0|   36|\n",
      "+--------+-----+\n",
      "\n",
      "Negative polarity\n",
      "+--------+-----+\n",
      "|polarity|count|\n",
      "+--------+-----+\n",
      "|   -0.01|    1|\n",
      "|   -0.12|    1|\n",
      "|    -0.2|    2|\n",
      "|   -0.26|    1|\n",
      "|    -0.4|    2|\n",
      "|    -0.5|    1|\n",
      "|   -0.65|    1|\n",
      "|    -0.7|    1|\n",
      "+--------+-----+\n",
      "\n",
      "+----------------+\n",
      "|tot_neg_polarity|\n",
      "+----------------+\n",
      "|              10|\n",
      "+----------------+\n",
      "\n"
     ]
    }
   ],
   "source": [
    "print(\"Positive polarity\")\n",
    "pos_polarity.show()\n",
    "tot_pos_polarity.show()\n",
    "print(\"Neutral polarity\")\n",
    "neutral_polarity.show()\n",
    "print(\"Negative polarity\")\n",
    "neg_polarity.show()\n",
    "tot_neg_polarity.show()"
   ]
  },
  {
   "cell_type": "code",
   "execution_count": 97,
   "metadata": {},
   "outputs": [
    {
     "name": "stdout",
     "output_type": "stream",
     "text": [
      "--Negative Sentiment--\n",
      "+--------------------+--------+------------+\n",
      "|          tweet_text|polarity|subjectivity|\n",
      "+--------------------+--------+------------+\n",
      "|I am 42 and I can...|   -0.01|        0.22|\n",
      "|im shocked this m...|    -0.7|         0.8|\n",
      "|Which is worse?  ...|    -0.4|         0.6|\n",
      "|bitch stfu lookin...|    -0.2|         0.6|\n",
      "|We do not have  i...|   -0.65|         1.0|\n",
      "|There have been v...|   -0.26|        0.13|\n",
      "|Diabetes from one...|   -0.12|         0.4|\n",
      "|I look everyday a...|    -0.2|         0.6|\n",
      "|Whaaaaaattt  you ...|    -0.5|         0.7|\n",
      "|The body renews u...|    -0.4|         0.7|\n",
      "+--------------------+--------+------------+\n",
      "\n",
      "--Positive Sentiment--\n",
      "+--------------------+--------+------------+\n",
      "|          tweet_text|polarity|subjectivity|\n",
      "+--------------------+--------+------------+\n",
      "|You deserve a tre...|     0.1|        0.75|\n",
      "|Haha. I looked at...|     0.2|         0.3|\n",
      "|I got the J&amp;J...|     0.4|         0.8|\n",
      "|Thanks! I just ad...|    0.13|         0.1|\n",
      "|That's downtown R...|     0.1|         0.4|\n",
      "|Got my first donu...|    0.36|        0.47|\n",
      "|            Awesome!|     1.0|         1.0|\n",
      "|Obesity is a HUGE...|     0.4|         0.9|\n",
      "|           exactly !|    0.31|        0.25|\n",
      "|Sunshine is a gre...|     0.8|        0.75|\n",
      "|Yes! good for you...|     1.0|         0.6|\n",
      "|vaccinated bitche...|     0.5|         1.0|\n",
      "|   Plus   is near by|     0.1|         0.4|\n",
      "|After 2nd shot we...|    0.06|         0.2|\n",
      "|This self-healing...|     0.4|         0.4|\n",
      "|just got mine tod...|     0.2|         0.5|\n",
      "|Covid Vaccination...|    0.11|        0.27|\n",
      "|I’m super pleased...|    0.44|        0.89|\n",
      "|We  know what we ...|    0.98|         0.5|\n",
      "|The time has come...|     0.3|         0.5|\n",
      "+--------------------+--------+------------+\n",
      "only showing top 20 rows\n",
      "\n",
      "--Neutral Sentiment--\n",
      "+--------------------+--------+------------+\n",
      "|          tweet_text|polarity|subjectivity|\n",
      "+--------------------+--------+------------+\n",
      "|The civil war is ...|     0.0|         0.0|\n",
      "|Reasons to get yo...|     0.0|         0.0|\n",
      "|If it were   it’d...|     0.0|         0.5|\n",
      "|Don't you worry  ...|     0.0|         0.0|\n",
      "|Seeing this made ...|     0.0|        0.13|\n",
      "|Seeing this made ...|     0.0|        0.13|\n",
      "|you have to liste...|     0.0|         0.0|\n",
      "|Jeff the vaccine ...|     0.0|         0.0|\n",
      "|I didn’t need the...|     0.0|         0.0|\n",
      "|Which Krispy Krem...|     0.0|         0.0|\n",
      "|Where’s  when you...|     0.0|         0.0|\n",
      "|I’ll be joining y...|     0.0|         0.0|\n",
      "|         See y’all  |     0.0|         0.0|\n",
      "|Zero. I don’t lik...|     0.0|         0.0|\n",
      "|make it happen he...|     0.0|         0.0|\n",
      "|to all those argu...|     0.0|         0.0|\n",
      "|He blocked me for...|     0.0|         0.0|\n",
      "|   We will definit… |     0.0|         0.0|\n",
      "|         Excellent… |     0.0|         0.0|\n",
      "|I am divorcing yo...|     0.0|         0.0|\n",
      "+--------------------+--------+------------+\n",
      "only showing top 20 rows\n",
      "\n"
     ]
    }
   ],
   "source": [
    "# Dataframes with Positive, Negative, and Neutral Sentiment (Polarity and Subjectivity)\n",
    "neg_sentiment = tweets_sentiment.filter('polarity < 0')\n",
    "pos_sentiment = tweets_sentiment.filter('polarity > 0')\n",
    "neutral_sentiment = tweets_sentiment.filter('polarity = 0')\n",
    "print(\"--Negative Sentiment--\")\n",
    "neg_sentiment.show()\n",
    "print(\"--Positive Sentiment--\")\n",
    "pos_sentiment.show()\n",
    "print(\"--Neutral Sentiment--\")\n",
    "neutral_sentiment.show()"
   ]
  },
  {
   "cell_type": "code",
   "execution_count": 125,
   "metadata": {},
   "outputs": [
    {
     "data": {
      "image/png": "[encoded data removed]",
      "text/plain": [
       "<Figure size 432x288 with 1 Axes>"
      ]
     },
     "metadata": {
      "needs_background": "light"
     },
     "output_type": "display_data"
    }
   ],
   "source": [
    "# Histogram showing Positive, Negative\n",
    "neg_plot = list(neg_sentiment.select('polarity').toPandas()['polarity'])\n",
    "pos_plot = list(pos_sentiment.select('polarity').toPandas()['polarity'])\n",
    "neutral_plot = list(neutral_sentiment.select('polarity').toPandas()['polarity'])\n",
    "plots = [neg_plot, pos_plot]\n",
    "colors = ['darkviolet', 'skyblue']\n",
    "plt.hist(plots,color = colors)\n",
    "plt.xlabel('Polarity')\n",
    "plt.ylabel('Count')\n",
    "plt.title('Histogram of Negative and Positive Polarity')\n",
    "plt.show()"
   ]
  },
  {
   "cell_type": "code",
   "execution_count": 123,
   "metadata": {},
   "outputs": [
    {
     "data": {
      "image/png": "[encoded data removed]",
      "text/plain": [
       "<Figure size 432x288 with 1 Axes>"
      ]
     },
     "metadata": {
      "needs_background": "light"
     },
     "output_type": "display_data"
    }
   ],
   "source": [
    "# Histogram of Negative Sentiment\n",
    "neg_lst_pol = list(neg_sentiment.select('polarity').toPandas()['polarity'])\n",
    "neg_lst_sub = list(neg_sentiment.select('subjectivity').toPandas()['subjectivity'])\n",
    "plots = [neg_lst_pol, neg_lst_sub]\n",
    "colors = ['darkviolet', 'gold']\n",
    "plt.hist(plots, color = colors)\n",
    "plt.xlabel('Polarity and Subjectivity')\n",
    "plt.ylabel('Count')\n",
    "plt.title('Histogram of Negative Sentiment')\n",
    "plt.show()"
   ]
  },
  {
   "cell_type": "code",
   "execution_count": 127,
   "metadata": {},
   "outputs": [
    {
     "data": {
      "image/png": "[encoded data removed]",
      "text/plain": [
       "<Figure size 432x288 with 1 Axes>"
      ]
     },
     "metadata": {
      "needs_background": "light"
     },
     "output_type": "display_data"
    }
   ],
   "source": [
    "# Histogram showing Positive Sentiment\n",
    "pos_lst_pol = list(pos_sentiment.select('polarity').toPandas()['polarity'])\n",
    "pos_lst_sub = list(pos_sentiment.select('subjectivity').toPandas()['subjectivity'])\n",
    "plots = [pos_lst_pol, pos_lst_sub]\n",
    "colors = ['skyblue', 'gold']\n",
    "plt.hist(plots, bins = 'auto', color = colors)\n",
    "plt.xlabel('Polarity and Subjectivity')\n",
    "plt.ylabel('Count')\n",
    "plt.title('Histogram of Positive Sentiment')\n",
    "plt.show()"
   ]
  },
  {
   "cell_type": "code",
   "execution_count": 129,
   "metadata": {},
   "outputs": [
    {
     "data": {
      "image/png": "[encoded data removed]",
      "text/plain": [
       "<Figure size 432x288 with 1 Axes>"
      ]
     },
     "metadata": {
      "needs_background": "light"
     },
     "output_type": "display_data"
    }
   ],
   "source": [
    "neut_lst_pol = list(neutral_sentiment.select('polarity').toPandas()['polarity'])\n",
    "neut_lst_sub = list(neutral_sentiment.select('subjectivity').toPandas()['subjectivity'])\n",
    "plots = [neut_lst_pol, neut_lst_sub]\n",
    "colors = ['lightslategray', 'gold']\n",
    "plt.hist(plots, color = colors)\n",
    "plt.xlabel('Polarity and Subjectivity')\n",
    "plt.ylabel('Count')\n",
    "plt.title('Histogram of Neutral Sentiment')\n",
    "plt.show()"
   ]
  }
 ],
 "metadata": {
  "kernelspec": {
   "display_name": "Python 3",
   "language": "python",
   "name": "python3"
  },
  "language_info": {
   "codemirror_mode": {
    "name": "ipython",
    "version": 3
   },
   "file_extension": ".py",
   "mimetype": "text/x-python",
   "name": "python",
   "nbconvert_exporter": "python",
   "pygments_lexer": "ipython3",
   "version": "3.8.5"
  }
 },
 "nbformat": 4,
 "nbformat_minor": 4
}
